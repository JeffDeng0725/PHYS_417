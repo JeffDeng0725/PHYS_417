{
 "cells": [
  {
   "cell_type": "markdown",
   "id": "c76bd7e6",
   "metadata": {},
   "source": [
    "# Lab 8 Report: \n",
    "## FINAL PROJECT STRATEGIC PLANNING"
   ]
  },
  {
   "cell_type": "markdown",
   "id": "3f5ed902",
   "metadata": {},
   "source": [
    "### Lab 8 Instruction: \n",
    "https://canvas.uw.edu/files/106242897/download?download_frd=1"
   ]
  },
  {
   "cell_type": "markdown",
   "id": "0098c149",
   "metadata": {},
   "source": [
    "### Team Members:"
   ]
  },
  {
   "cell_type": "markdown",
   "id": "36869478",
   "metadata": {},
   "source": [
    "### Dataset for your project:"
   ]
  },
  {
   "cell_type": "markdown",
   "id": "7b08ff02",
   "metadata": {},
   "source": [
    "#### Feel free to delete or modify pre-written markdown cells below the line"
   ]
  },
  {
   "cell_type": "markdown",
   "id": "3fe993be",
   "metadata": {},
   "source": [
    "---"
   ]
  },
  {
   "cell_type": "markdown",
   "id": "596ea344",
   "metadata": {},
   "source": [
    "## Understanding the Data"
   ]
  },
  {
   "cell_type": "markdown",
   "id": "58876db7",
   "metadata": {},
   "source": [
    "### **a. Data Size and Structure**\n",
    "\n",
    "* **Dataset Size**:\n",
    "\n",
    "  * The dataset includes thousands of labeled EEG samples, each 50 seconds long, sampled at **200 Hz** across multiple electrode channels.\n",
    "  * Data is large: each EEG sample has `200 Hz × 50 s = 10,000` timepoints per electrode channel.\n",
    "  * EEG files are stored in `/train_eegs/` and `/test_eegs/`; spectrograms (generated from EEG data) are also available.\n",
    "\n",
    "* **Structure**:\n",
    "\n",
    "  * **`train.csv`** is the primary metadata file linking EEG and spectrogram samples to expert-labeled classifications.\n",
    "  * Each row in `train.csv` corresponds to a **specific labeled segment** within a longer EEG recording.\n",
    "  * Labels are provided by **multiple experts**. Each class has an associated **vote count**.\n",
    "  * There are six target categories:\n",
    "\n",
    "    * `seizure`, `lpd`, `gpd`, `lrda`, `grda`, `other`\n",
    "  * Labeling is done on the **central 10 seconds** of each 50s EEG window (i.e., the labels refer to seconds 20–30).\n",
    "\n",
    "* **Data Types**:\n",
    "\n",
    "  * Raw EEG time series (per electrode channel)\n",
    "  * Spectrograms (frequency-domain representation)\n",
    "  * Metadata (e.g., offset, patient ID, annotator votes)\n",
    "\n",
    "* **Overlap**:\n",
    "\n",
    "  * Many EEG windows **overlap**. The dataset consolidates overlapping regions with associated metadata to extract relevant segments.\n",
    "\n",
    "* **File Format**:\n",
    "\n",
    "  * Data is stored in `.parquet` format with columns as electrode names (e.g., `Fp1`, `F3`, `EKG`).\n",
    "\n",
    "---\n",
    "\n",
    "### **b. Data Cleanness**\n",
    "\n",
    "* **Potential Noise**:\n",
    "\n",
    "  * EEG data is inherently **noisy**, with possible contamination from muscle movement, eye blinks, and environmental interference.\n",
    "  * The **EKG** channel is included, which can sometimes help with artifact detection (e.g., removing heartbeat interference).\n",
    "\n",
    "* **Label Noise**:\n",
    "\n",
    "  * Even trained annotators **disagree** — hence vote counts are provided per class rather than a single deterministic label.\n",
    "  * The column `expert_consensus` offers a simplified label but should be used cautiously due to possible inter-rater disagreement.\n",
    "\n",
    "* **Simulator limitations**:\n",
    "\n",
    "  * This dataset is **real-world**, not simulated. However, **sampling frequency and electrode coverage** may limit some types of fine-grained analysis.\n",
    "\n",
    "---\n",
    "\n",
    "### **c. Diversity of Features**\n",
    "\n",
    "* **Feature Space**:\n",
    "\n",
    "  * Each EEG sample consists of multiple channels (electrode signals), each with 10,000 data points (50s × 200Hz).\n",
    "  * Spectrograms provide time-frequency representations, increasing feature diversity across frequency bins and brain regions.\n",
    "\n",
    "* **Labels**:\n",
    "\n",
    "  * There are 6 multi-label classification targets; each sample can have **multiple** brain activity types (i.e., it's **multi-label**).\n",
    "  * Label distribution is **highly imbalanced** — seizure events are **rare**, while “other” may be common.\n",
    "\n",
    "* **Patient Diversity**:\n",
    "\n",
    "  * Samples come from different patients (`patient_id` is included), and cross-patient variation (e.g., age, pathology) could affect generalization.\n",
    "\n",
    "* **Conclusion**:\n",
    "\n",
    "  * The dataset is rich and complex, with both time-domain and frequency-domain inputs, weak supervision (due to annotator disagreement), and a multi-label output space.\n",
    "\n",
    "---\n",
    "\n"
   ]
  },
  {
   "cell_type": "markdown",
   "id": "526dd6ab",
   "metadata": {},
   "source": [
    "## Understanding the Task"
   ]
  },
  {
   "cell_type": "markdown",
   "id": "95802e41",
   "metadata": {},
   "source": [
    "### a. **Problem type**\n",
    "\n",
    "* **Binary classification** of EEG segments:\n",
    "\n",
    "  * Predict whether a time window of EEG signals contains harmful brain activity.\n",
    "\n",
    "---\n",
    "\n",
    "### b. **Significance**\n",
    "\n",
    "* Early detection of harmful brain activity is critical for medical intervention, e.g., seizure detection, coma monitoring, etc.\n",
    "* Potential to assist medical professionals or automate monitoring in ICUs.\n",
    "\n",
    "---\n",
    "\n",
    "### c. **Evaluation metric**\n",
    "\n",
    "* The official Kaggle competition uses:\n",
    "\n",
    "  * **Log loss** (`BinaryCrossentropy`)\n",
    "  * Possibly also reports **AUC-ROC** or **Accuracy**, but final rankings are based on log loss.\n",
    "\n",
    "---\n",
    "\n",
    "### d. **Good performance**\n",
    "\n",
    "* A good model should achieve:\n",
    "\n",
    "  * **Low log loss** (e.g., < 0.3 on validation)\n",
    "  * Generalize across patients (i.e., work well on unseen EEG patterns)\n",
    "  * Handle noisy signals robustly\n",
    "* Also, **balanced sensitivity and specificity** is ideal (to avoid missing harmful events).\n",
    "\n",
    "---\n",
    "\n",
    "### e. **Baseline methods**\n",
    "\n",
    "* A basic **fully connected neural net (FCN)** on flattened EEG signals.\n",
    "* Classical baselines could include:\n",
    "\n",
    "  * **Logistic Regression** on frequency-domain features (FFT)\n",
    "  * **Random Forests** on engineered statistical features\n",
    "* More advanced baselines:\n",
    "\n",
    "  * **CNNs** for spatial-temporal patterns\n",
    "  * **RNNs** or **Transformers** for sequential dependencies\n",
    "\n",
    "---"
   ]
  },
  {
   "cell_type": "code",
   "execution_count": null,
   "id": "7cafad17",
   "metadata": {},
   "outputs": [],
   "source": []
  },
  {
   "cell_type": "markdown",
   "id": "f275694a",
   "metadata": {},
   "source": [
    "## Developing an initial plan for your project"
   ]
  },
  {
   "cell_type": "markdown",
   "id": "ca18135a",
   "metadata": {},
   "source": [
    "### a. **Inputs and Outputs**\n",
    "\n",
    "* **Input**: `(6, 10,000)` tensor representing 50s EEG from 6 channels.\n",
    "\n",
    "  * May be downsampled or windowed further.\n",
    "  * Can also extract frequency features (STFT, spectrogram).\n",
    "* **Output**: Scalar (0 or 1), probability of harmful brain activity.\n",
    "\n",
    "**Data preparation:**\n",
    "\n",
    "* Normalize each EEG channel.\n",
    "* Apply bandpass filter (e.g., 0.5–40 Hz).\n",
    "* Handle missing or extreme values.\n",
    "* Possibly segment data further (e.g., sliding window with overlap).\n",
    "\n",
    "---\n",
    "\n",
    "### b. **Model**\n",
    "\n",
    "* Initial model: **1D CNN** (temporal conv across each channel)\n",
    "* Could try:\n",
    "\n",
    "  * Multi-scale CNNs\n",
    "  * CNN + GRU\n",
    "  * Transformer for long-range dependencies\n",
    "* Use dropout and batch normalization for regularization.\n",
    "\n",
    "---\n",
    "\n",
    "### c. **Loss function**\n",
    "\n",
    "* **Binary Cross-Entropy Loss**, weighted if data is imbalanced.\n",
    "\n",
    "---\n",
    "\n",
    "### d. **Model evaluation**\n",
    "\n",
    "* Validation using:\n",
    "\n",
    "  * **Log loss**\n",
    "  * **Accuracy**\n",
    "  * **ROC AUC**\n",
    "* Use stratified K-Fold cross-validation based on patient ID to prevent leakage.\n",
    "* Track learning curves and confusion matrix.\n",
    "\n",
    "---\n"
   ]
  },
  {
   "cell_type": "code",
   "execution_count": null,
   "id": "0bcf2b94",
   "metadata": {},
   "outputs": [],
   "source": []
  }
 ],
 "metadata": {
  "kernelspec": {
   "display_name": "myenv",
   "language": "python",
   "name": "python3"
  },
  "language_info": {
   "codemirror_mode": {
    "name": "ipython",
    "version": 3
   },
   "file_extension": ".py",
   "mimetype": "text/x-python",
   "name": "python",
   "nbconvert_exporter": "python",
   "pygments_lexer": "ipython3",
   "version": "3.9.21"
  }
 },
 "nbformat": 4,
 "nbformat_minor": 5
}
