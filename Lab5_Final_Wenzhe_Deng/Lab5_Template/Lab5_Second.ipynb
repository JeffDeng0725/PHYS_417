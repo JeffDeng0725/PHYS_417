{
 "cells": [
  {
   "cell_type": "code",
   "execution_count": 38,
   "id": "935767f1",
   "metadata": {},
   "outputs": [
    {
     "name": "stdout",
     "output_type": "stream",
     "text": [
      "Using device: cuda\n"
     ]
    }
   ],
   "source": [
    "# ─── Cell 1: Imports & Hyperparameters ────────────────────────────────────\n",
    "import torch\n",
    "import torch.nn as nn\n",
    "import torch.nn.functional as F\n",
    "from torch.utils.data import Dataset, DataLoader\n",
    "import math\n",
    "import random\n",
    "\n",
    "# 1) Select device\n",
    "device = torch.device('cuda' if torch.cuda.is_available() else 'cpu')\n",
    "print(\"Using device:\", device)\n",
    "\n",
    "# 2) Hyperparameters\n",
    "data_size_to_train = 10_000   # if you want to slice; else use full text\n",
    "seq_len           = 200       # context length\n",
    "hidden_size       = 256       # RNN hidden dimension\n",
    "num_layers        = 2         # number of LSTM layers\n",
    "learning_rate     = 1e-5\n",
    "batch_size        = 128\n",
    "num_epochs        = 100\n"
   ]
  },
  {
   "cell_type": "code",
   "execution_count": 39,
   "id": "bef4364e",
   "metadata": {},
   "outputs": [
    {
     "name": "stdout",
     "output_type": "stream",
     "text": [
      "Data has 82383 chars, 79 unique\n"
     ]
    }
   ],
   "source": [
    "# ─── Cell 2: Load Text & Build Vocabulary ────────────────────────────────\n",
    "with open('integrated.txt','r',encoding='utf-8') as f:\n",
    "    full_text = f.read()\n",
    "\n",
    "# Choose full text or first N chars:\n",
    "data = full_text\n",
    "# data = full_text[:data_size_to_train]\n",
    "\n",
    "characters = sorted(set(data))\n",
    "vocab_size = len(characters)\n",
    "print(f\"Data has {len(data)} chars, {vocab_size} unique\")\n",
    "\n",
    "# Mappings\n",
    "char_to_idx = {ch: i for i, ch in enumerate(characters)}\n",
    "idx_to_char = {i: ch for ch, i in char_to_idx.items()}\n"
   ]
  },
  {
   "cell_type": "code",
   "execution_count": 40,
   "id": "b19fc06f",
   "metadata": {},
   "outputs": [
    {
     "name": "stdout",
     "output_type": "stream",
     "text": [
      "Train size: 74144, Val size: 8239\n"
     ]
    }
   ],
   "source": [
    "# ─── Cell 3: Encode & Split into Train/Val ───────────────────────────────\n",
    "# Integer-encode full sequence\n",
    "data_nums = [char_to_idx[c] for c in data]\n",
    "\n",
    "# 90% train / 10% validation\n",
    "split      = int(0.9 * len(data_nums))\n",
    "train_nums = data_nums[:split]\n",
    "val_nums   = data_nums[split:]\n",
    "\n",
    "print(f\"Train size: {len(train_nums)}, Val size: {len(val_nums)}\")\n"
   ]
  },
  {
   "cell_type": "code",
   "execution_count": 41,
   "id": "7eb09c59",
   "metadata": {},
   "outputs": [],
   "source": [
    "# ─── Cell 4: Dataset & DataLoader ────────────────────────────────────────\n",
    "class SequenceDataset(Dataset):\n",
    "    def __init__(self, data, seq_len):\n",
    "        self.data    = data\n",
    "        self.seq_len = seq_len\n",
    "\n",
    "    def __len__(self):\n",
    "        return len(self.data) - self.seq_len\n",
    "\n",
    "    def __getitem__(self, idx):\n",
    "        x = torch.tensor(\n",
    "            self.data[idx:idx+self.seq_len], dtype=torch.long\n",
    "        )\n",
    "        y = torch.tensor(\n",
    "            self.data[idx+1:idx+self.seq_len+1], dtype=torch.long\n",
    "        )\n",
    "        return x, y\n",
    "\n",
    "train_dataset = SequenceDataset(train_nums, seq_len)\n",
    "val_dataset   = SequenceDataset(val_nums,   seq_len)\n",
    "\n",
    "train_loader = DataLoader(\n",
    "    train_dataset, batch_size=batch_size, shuffle=True, drop_last=True\n",
    ")\n",
    "val_loader   = DataLoader(\n",
    "    val_dataset,   batch_size=batch_size\n",
    ")\n"
   ]
  },
  {
   "cell_type": "code",
   "execution_count": 42,
   "id": "d88e8f34",
   "metadata": {},
   "outputs": [],
   "source": [
    "# ─── Cell 5: CharRNN Model Definition ────────────────────────────────────\n",
    "class CharRNN(nn.Module):\n",
    "    def __init__(self, vocab_size, hidden_size, num_layers):\n",
    "        super().__init__()\n",
    "        self.hidden_size = hidden_size\n",
    "        self.num_layers  = num_layers\n",
    "        self.embedding   = nn.Embedding(vocab_size, hidden_size)\n",
    "        self.lstm        = nn.LSTM(\n",
    "            hidden_size, hidden_size, num_layers,\n",
    "            batch_first=True\n",
    "        )\n",
    "        self.fc          = nn.Linear(hidden_size, vocab_size)\n",
    "\n",
    "    def forward(self, x, hidden):\n",
    "        # x: [batch, seq_len]\n",
    "        emb = self.embedding(x)                  # [batch, seq_len, hidden]\n",
    "        out, hidden = self.lstm(emb, hidden)     # out: [batch, seq_len, hidden]\n",
    "        out = self.fc(out)                       # [batch, seq_len, vocab]\n",
    "        return out, hidden\n",
    "\n",
    "    def init_hidden(self, batch_size):\n",
    "        # (h0, c0) each: [num_layers, batch, hidden_size]\n",
    "        weight = next(self.parameters())\n",
    "        return (\n",
    "            weight.new_zeros(self.num_layers, batch_size, self.hidden_size),\n",
    "            weight.new_zeros(self.num_layers, batch_size, self.hidden_size)\n",
    "        )\n",
    "\n",
    "model = CharRNN(vocab_size, hidden_size, num_layers).to(device)\n"
   ]
  },
  {
   "cell_type": "code",
   "execution_count": 43,
   "id": "68284d90",
   "metadata": {},
   "outputs": [],
   "source": [
    "# ─── Cell 6: Sampling & Evaluation Utilities ─────────────────────────────\n",
    "def sample_char(logits, temperature=1.0, top_k=None):\n",
    "    # logits: 1D tensor of size vocab_size\n",
    "    if top_k is not None:\n",
    "        vals, idxs = torch.topk(logits, top_k)\n",
    "        mask = torch.full_like(logits, float('-inf'))\n",
    "        mask[idxs] = vals\n",
    "        logits = mask\n",
    "    scaled = logits.div(temperature)\n",
    "    probs  = F.softmax(scaled, dim=0)\n",
    "    return torch.multinomial(probs, 1).item()\n",
    "\n",
    "def generate(model, start, length=200, temperature=0.5, top_k=8):\n",
    "    model.eval()\n",
    "    hidden = model.init_hidden(1)\n",
    "    # prime with all but last char\n",
    "    for ch in start[:-1]:\n",
    "        _, hidden = model(\n",
    "            torch.tensor([[char_to_idx[ch]]], device=device), hidden\n",
    "        )\n",
    "    # last char to get initial out\n",
    "    out, hidden = model(\n",
    "        torch.tensor([[char_to_idx[start[-1]]]], device=device), hidden\n",
    "    )\n",
    "    result = start\n",
    "    for _ in range(length):\n",
    "        logits = out.squeeze()         # [vocab_size]\n",
    "        idx    = sample_char(logits, temperature, top_k)\n",
    "        ch     = idx_to_char[idx]\n",
    "        result += ch\n",
    "        if ch in '.?!':               # stop at sentence end\n",
    "            break\n",
    "        out, hidden = model(\n",
    "            torch.tensor([[idx]], device=device), hidden\n",
    "        )\n",
    "    return result\n",
    "\n",
    "def evaluate(model, data_nums, criterion, seq_len):\n",
    "    model.eval()\n",
    "    total_loss = 0.0\n",
    "    hidden = model.init_hidden(1)\n",
    "    count  = 0\n",
    "    with torch.no_grad():\n",
    "        for i in range(0, len(data_nums)-seq_len, seq_len):\n",
    "            x = torch.tensor([data_nums[i:i+seq_len]], device=device)\n",
    "            y = torch.tensor([data_nums[i+1:i+seq_len+1]], device=device)\n",
    "            out, hidden = model(x, hidden)\n",
    "            hidden = tuple(h.detach() for h in hidden)\n",
    "            loss = criterion(\n",
    "                out.view(-1, vocab_size),\n",
    "                y.view(-1)\n",
    "            )\n",
    "            total_loss += loss.item()\n",
    "            count += 1\n",
    "    return total_loss / count\n"
   ]
  },
  {
   "cell_type": "code",
   "execution_count": 44,
   "id": "dfdad403",
   "metadata": {},
   "outputs": [
    {
     "name": "stdout",
     "output_type": "stream",
     "text": [
      "Epoch  1 | Train Loss: 3.5638 | Val Loss:   3.0731 | Val PPL:    21.61\n",
      " Sample ['W']: W)3oisn en taa s a ie  tanoh   ti t o  t he   taa  en  ee  e    eioo  tohht at  a e a  a ne tao ha han e   a e   ethaon   eito  eoto o     eei teeeo  este t h  ate  tha  ta   e toa    a a a o a  e  e  \n",
      "\n",
      "Epoch  2 | Train Loss: 2.9960 | Val Loss:   2.9122 | Val PPL:    18.40\n",
      " Sample ['3']: 3mn sese on e ean oho e te he the hin h at aaa os ee ot e  ete oo ao o thiet teero oa t eeoo n eo eo ea tiat teh te no  one  ho eo t oo te t eee e a e tite e oo  ee haae ae  oo on eee h ti o inn a ehao\n",
      "\n"
     ]
    },
    {
     "ename": "KeyboardInterrupt",
     "evalue": "",
     "output_type": "error",
     "traceback": [
      "\u001b[1;31m---------------------------------------------------------------------------\u001b[0m",
      "\u001b[1;31mKeyboardInterrupt\u001b[0m                         Traceback (most recent call last)",
      "Cell \u001b[1;32mIn[44], line 20\u001b[0m\n\u001b[0;32m     18\u001b[0m out, hidden \u001b[38;5;241m=\u001b[39m model(x_batch, hidden)\n\u001b[0;32m     19\u001b[0m loss \u001b[38;5;241m=\u001b[39m criterion(out\u001b[38;5;241m.\u001b[39mview(\u001b[38;5;241m-\u001b[39m\u001b[38;5;241m1\u001b[39m, vocab_size), y_batch\u001b[38;5;241m.\u001b[39mview(\u001b[38;5;241m-\u001b[39m\u001b[38;5;241m1\u001b[39m))\n\u001b[1;32m---> 20\u001b[0m \u001b[43mloss\u001b[49m\u001b[38;5;241;43m.\u001b[39;49m\u001b[43mbackward\u001b[49m\u001b[43m(\u001b[49m\u001b[43m)\u001b[49m\n\u001b[0;32m     21\u001b[0m torch\u001b[38;5;241m.\u001b[39mnn\u001b[38;5;241m.\u001b[39mutils\u001b[38;5;241m.\u001b[39mclip_grad_norm_(model\u001b[38;5;241m.\u001b[39mparameters(), \u001b[38;5;241m1.0\u001b[39m)\n\u001b[0;32m     22\u001b[0m optimizer\u001b[38;5;241m.\u001b[39mstep()\n",
      "File \u001b[1;32mc:\\Users\\Jeff\\anaconda3\\envs\\myenv\\lib\\site-packages\\torch\\_tensor.py:581\u001b[0m, in \u001b[0;36mTensor.backward\u001b[1;34m(self, gradient, retain_graph, create_graph, inputs)\u001b[0m\n\u001b[0;32m    571\u001b[0m \u001b[38;5;28;01mif\u001b[39;00m has_torch_function_unary(\u001b[38;5;28mself\u001b[39m):\n\u001b[0;32m    572\u001b[0m     \u001b[38;5;28;01mreturn\u001b[39;00m handle_torch_function(\n\u001b[0;32m    573\u001b[0m         Tensor\u001b[38;5;241m.\u001b[39mbackward,\n\u001b[0;32m    574\u001b[0m         (\u001b[38;5;28mself\u001b[39m,),\n\u001b[1;32m   (...)\u001b[0m\n\u001b[0;32m    579\u001b[0m         inputs\u001b[38;5;241m=\u001b[39minputs,\n\u001b[0;32m    580\u001b[0m     )\n\u001b[1;32m--> 581\u001b[0m \u001b[43mtorch\u001b[49m\u001b[38;5;241;43m.\u001b[39;49m\u001b[43mautograd\u001b[49m\u001b[38;5;241;43m.\u001b[39;49m\u001b[43mbackward\u001b[49m\u001b[43m(\u001b[49m\n\u001b[0;32m    582\u001b[0m \u001b[43m    \u001b[49m\u001b[38;5;28;43mself\u001b[39;49m\u001b[43m,\u001b[49m\u001b[43m \u001b[49m\u001b[43mgradient\u001b[49m\u001b[43m,\u001b[49m\u001b[43m \u001b[49m\u001b[43mretain_graph\u001b[49m\u001b[43m,\u001b[49m\u001b[43m \u001b[49m\u001b[43mcreate_graph\u001b[49m\u001b[43m,\u001b[49m\u001b[43m \u001b[49m\u001b[43minputs\u001b[49m\u001b[38;5;241;43m=\u001b[39;49m\u001b[43minputs\u001b[49m\n\u001b[0;32m    583\u001b[0m \u001b[43m\u001b[49m\u001b[43m)\u001b[49m\n",
      "File \u001b[1;32mc:\\Users\\Jeff\\anaconda3\\envs\\myenv\\lib\\site-packages\\torch\\autograd\\__init__.py:347\u001b[0m, in \u001b[0;36mbackward\u001b[1;34m(tensors, grad_tensors, retain_graph, create_graph, grad_variables, inputs)\u001b[0m\n\u001b[0;32m    342\u001b[0m     retain_graph \u001b[38;5;241m=\u001b[39m create_graph\n\u001b[0;32m    344\u001b[0m \u001b[38;5;66;03m# The reason we repeat the same comment below is that\u001b[39;00m\n\u001b[0;32m    345\u001b[0m \u001b[38;5;66;03m# some Python versions print out the first line of a multi-line function\u001b[39;00m\n\u001b[0;32m    346\u001b[0m \u001b[38;5;66;03m# calls in the traceback and some print out the last line\u001b[39;00m\n\u001b[1;32m--> 347\u001b[0m \u001b[43m_engine_run_backward\u001b[49m\u001b[43m(\u001b[49m\n\u001b[0;32m    348\u001b[0m \u001b[43m    \u001b[49m\u001b[43mtensors\u001b[49m\u001b[43m,\u001b[49m\n\u001b[0;32m    349\u001b[0m \u001b[43m    \u001b[49m\u001b[43mgrad_tensors_\u001b[49m\u001b[43m,\u001b[49m\n\u001b[0;32m    350\u001b[0m \u001b[43m    \u001b[49m\u001b[43mretain_graph\u001b[49m\u001b[43m,\u001b[49m\n\u001b[0;32m    351\u001b[0m \u001b[43m    \u001b[49m\u001b[43mcreate_graph\u001b[49m\u001b[43m,\u001b[49m\n\u001b[0;32m    352\u001b[0m \u001b[43m    \u001b[49m\u001b[43minputs\u001b[49m\u001b[43m,\u001b[49m\n\u001b[0;32m    353\u001b[0m \u001b[43m    \u001b[49m\u001b[43mallow_unreachable\u001b[49m\u001b[38;5;241;43m=\u001b[39;49m\u001b[38;5;28;43;01mTrue\u001b[39;49;00m\u001b[43m,\u001b[49m\n\u001b[0;32m    354\u001b[0m \u001b[43m    \u001b[49m\u001b[43maccumulate_grad\u001b[49m\u001b[38;5;241;43m=\u001b[39;49m\u001b[38;5;28;43;01mTrue\u001b[39;49;00m\u001b[43m,\u001b[49m\n\u001b[0;32m    355\u001b[0m \u001b[43m\u001b[49m\u001b[43m)\u001b[49m\n",
      "File \u001b[1;32mc:\\Users\\Jeff\\anaconda3\\envs\\myenv\\lib\\site-packages\\torch\\autograd\\graph.py:825\u001b[0m, in \u001b[0;36m_engine_run_backward\u001b[1;34m(t_outputs, *args, **kwargs)\u001b[0m\n\u001b[0;32m    823\u001b[0m     unregister_hooks \u001b[38;5;241m=\u001b[39m _register_logging_hooks_on_whole_graph(t_outputs)\n\u001b[0;32m    824\u001b[0m \u001b[38;5;28;01mtry\u001b[39;00m:\n\u001b[1;32m--> 825\u001b[0m     \u001b[38;5;28;01mreturn\u001b[39;00m Variable\u001b[38;5;241m.\u001b[39m_execution_engine\u001b[38;5;241m.\u001b[39mrun_backward(  \u001b[38;5;66;03m# Calls into the C++ engine to run the backward pass\u001b[39;00m\n\u001b[0;32m    826\u001b[0m         t_outputs, \u001b[38;5;241m*\u001b[39margs, \u001b[38;5;241m*\u001b[39m\u001b[38;5;241m*\u001b[39mkwargs\n\u001b[0;32m    827\u001b[0m     )  \u001b[38;5;66;03m# Calls into the C++ engine to run the backward pass\u001b[39;00m\n\u001b[0;32m    828\u001b[0m \u001b[38;5;28;01mfinally\u001b[39;00m:\n\u001b[0;32m    829\u001b[0m     \u001b[38;5;28;01mif\u001b[39;00m attach_logging_hooks:\n",
      "\u001b[1;31mKeyboardInterrupt\u001b[0m: "
     ]
    }
   ],
   "source": [
    "# ─── Cell 7: Training Loop with Validation, Logging & Sampling ──────────\n",
    "criterion = nn.CrossEntropyLoss()\n",
    "optimizer = torch.optim.Adam(model.parameters(), lr=learning_rate)\n",
    "\n",
    "train_losses = []\n",
    "val_losses   = []\n",
    "\n",
    "for epoch in range(1, num_epochs+1):\n",
    "    model.train()\n",
    "    epoch_loss = 0.0\n",
    "    hidden = model.init_hidden(batch_size)\n",
    "\n",
    "    for x_batch, y_batch in train_loader:\n",
    "        x_batch, y_batch = x_batch.to(device), y_batch.to(device)\n",
    "        hidden = tuple(h.detach() for h in hidden)\n",
    "\n",
    "        optimizer.zero_grad()\n",
    "        out, hidden = model(x_batch, hidden)\n",
    "        loss = criterion(out.view(-1, vocab_size), y_batch.view(-1))\n",
    "        loss.backward()\n",
    "        torch.nn.utils.clip_grad_norm_(model.parameters(), 1.0)\n",
    "        optimizer.step()\n",
    "\n",
    "        epoch_loss += loss.item()\n",
    "\n",
    "    train_loss = epoch_loss / len(train_loader)\n",
    "    val_loss   = evaluate(model, val_nums, criterion, seq_len)\n",
    "\n",
    "    train_losses.append(train_loss)\n",
    "    val_losses.append(val_loss)\n",
    "\n",
    "    print(\n",
    "        f\"Epoch {epoch:2d} | \"\n",
    "        f\"Train Loss: {train_loss:.4f} | \"\n",
    "        f\"Val Loss:   {val_loss:.4f} | \"\n",
    "        f\"Val PPL:    {math.exp(val_loss):.2f}\"\n",
    "    )\n",
    "\n",
    "    # ── Generate a sample from a random starting character ────────────────\n",
    "    start_char = random.choice(characters)\n",
    "    sample = generate(\n",
    "        model,\n",
    "        start=start_char,\n",
    "        length=200,\n",
    "        temperature=0.5,\n",
    "        top_k=8\n",
    "    )\n",
    "    print(f\" Sample [{start_char!r}]: {sample}\\n\")\n"
   ]
  },
  {
   "cell_type": "code",
   "execution_count": null,
   "id": "e4a1e53c",
   "metadata": {},
   "outputs": [
    {
     "name": "stdout",
     "output_type": "stream",
     "text": [
      "\n",
      "-- Sample Generation --\n",
      "B fasd were down the macle and siction to as coring thail siples of the tore anderist wich as thing I manle sitind wal stide that he same daden wes hore sast of wall cofe core ming there sated wo surt a that in the salle there in ang mere solimes, of there was in thai st calle straly.\n"
     ]
    }
   ],
   "source": [
    "# ─── Cell 8: Sample a Sentence ─────────────────────────────────────────────\n",
    "print(\"\\n-- Sample Generation --\")\n",
    "print(\n",
    "    generate(\n",
    "        model,\n",
    "        start=\"B\",\n",
    "        length=300,\n",
    "        temperature=0.5,\n",
    "        top_k=8\n",
    "    )\n",
    ")\n"
   ]
  },
  {
   "cell_type": "code",
   "execution_count": null,
   "id": "9dabb2aa",
   "metadata": {},
   "outputs": [
    {
     "data": {
      "image/png": "[encoded data removed]",
      "text/plain": [
       "<Figure size 800x500 with 1 Axes>"
      ]
     },
     "metadata": {},
     "output_type": "display_data"
    }
   ],
   "source": [
    "# ─── Cell 8: Plot Learning Curves ────────────────────────────────────────\n",
    "import matplotlib.pyplot as plt\n",
    "\n",
    "plt.figure(figsize=(8,5))\n",
    "plt.plot(train_losses, label='Train Loss')\n",
    "plt.plot(val_losses,   label='Val Loss')\n",
    "plt.xlabel('Epoch')\n",
    "plt.ylabel('Loss')\n",
    "plt.title('Training & Validation Loss over Epochs')\n",
    "plt.legend()\n",
    "plt.show()\n"
   ]
  },
  {
   "cell_type": "code",
   "execution_count": null,
   "id": "df1a7bec",
   "metadata": {},
   "outputs": [],
   "source": []
  }
 ],
 "metadata": {
  "kernelspec": {
   "display_name": "myenv",
   "language": "python",
   "name": "python3"
  },
  "language_info": {
   "codemirror_mode": {
    "name": "ipython",
    "version": 3
   },
   "file_extension": ".py",
   "mimetype": "text/x-python",
   "name": "python",
   "nbconvert_exporter": "python",
   "pygments_lexer": "ipython3",
   "version": "3.9.21"
  }
 },
 "nbformat": 4,
 "nbformat_minor": 5
}
